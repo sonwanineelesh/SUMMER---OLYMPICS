{
  "nbformat": 4,
  "nbformat_minor": 0,
  "metadata": {
    "colab": {
      "name": "summer.ipynb",
      "provenance": [],
      "collapsed_sections": []
    },
    "kernelspec": {
      "display_name": "Python 2",
      "language": "python",
      "name": "python2"
    },
    "language_info": {
      "codemirror_mode": {
        "name": "ipython",
        "version": 2
      },
      "file_extension": ".py",
      "mimetype": "text/x-python",
      "name": "python",
      "nbconvert_exporter": "python",
      "pygments_lexer": "ipython2",
      "version": "2.7.16"
    }
  },
  "cells": [
    {
      "cell_type": "markdown",
      "metadata": {
        "id": "KRYKfYMgRpwe"
      },
      "source": [
        "# Summer Olympics Data Analysis Assignment"
      ]
    },
    {
      "cell_type": "markdown",
      "metadata": {
        "id": "fuQ4zYFVRpwj"
      },
      "source": [
        "### 1. In how many cities Summer Olympics is held so far?"
      ]
    },
    {
      "cell_type": "code",
      "metadata": {
        "id": "ZB-BwPYSRpwm"
      },
      "source": [
        "import pandas as pd\n",
        "import numpy\n",
        "df=pd.read_csv('summer.csv')\n",
        "len(df['City'].unique())"
      ],
      "execution_count": null,
      "outputs": []
    },
    {
      "cell_type": "markdown",
      "metadata": {
        "id": "js_2MsXjRpwn"
      },
      "source": [
        "### 2. Which sport is having most number of Gold Medals so far? (Top 5)"
      ]
    },
    {
      "cell_type": "code",
      "metadata": {
        "colab": {
          "base_uri": "https://localhost:8080/",
          "height": 461
        },
        "id": "sATIAEQvzAqc",
        "outputId": "0f499d32-bba7-468d-d476-302ae797ac5b"
      },
      "source": [
        "y=df.loc[(df['Medal'] == 'Gold')&(df['Sport'])]\n",
        "x=y.groupby('Sport')['Medal'].count()\n",
        "z=x.sort_values(ascending=False).head()\n",
        "print(z)\n",
        "z.plot(kind='bar')"
      ],
      "execution_count": 123,
      "outputs": [
        {
          "output_type": "stream",
          "name": "stdout",
          "text": [
            "Sport\n",
            "Aquatics      1421\n",
            "Athletics     1215\n",
            "Rowing         890\n",
            "Gymnastics     820\n",
            "Fencing        552\n",
            "Name: Medal, dtype: int64\n"
          ]
        },
        {
          "output_type": "execute_result",
          "data": {
            "text/plain": [
              "<matplotlib.axes._subplots.AxesSubplot at 0x7f154b52c290>"
            ]
          },
          "metadata": {},
          "execution_count": 123
        },
        {
          "output_type": "display_data",
          "data": {
            "image/png": "[encoded data removed]",
            "text/plain": [
              "<Figure size 432x288 with 1 Axes>"
            ]
          },
          "metadata": {
            "needs_background": "light"
          }
        }
      ]
    },
    {
      "cell_type": "markdown",
      "metadata": {
        "id": "wGvg5vX4Rpwp"
      },
      "source": [
        "### 3. Which sport is having most number of medals so far? (Top 5)"
      ]
    },
    {
      "cell_type": "code",
      "metadata": {
        "id": "Oyoax_-gRpwp",
        "colab": {
          "base_uri": "https://localhost:8080/",
          "height": 500
        },
        "outputId": "c9083c25-2e42-4232-a2c3-e91565a0a5db"
      },
      "source": [
        "data=[]\n",
        "for sport in df['Sport'].unique():                                              #taking only unique sport \n",
        "  data.append([sport , len(df[df['Sport']  == sport])])                         #appending to data\n",
        "a=pd.DataFrame(data,columns = ['Sport','Medal']).sort_values(by='Medal', ascending=False).head()\n",
        "print(a)\n",
        "a.plot(x = 'Sport', y = 'Medal', kind = 'bar', figsize = (5,5))"
      ],
      "execution_count": 122,
      "outputs": [
        {
          "output_type": "stream",
          "name": "stdout",
          "text": [
            "         Sport  Medal\n",
            "0     Aquatics   4170\n",
            "1    Athletics   3638\n",
            "17      Rowing   2667\n",
            "4   Gymnastics   2307\n",
            "3      Fencing   1613\n"
          ]
        },
        {
          "output_type": "execute_result",
          "data": {
            "text/plain": [
              "<matplotlib.axes._subplots.AxesSubplot at 0x7f1552edff90>"
            ]
          },
          "metadata": {},
          "execution_count": 122
        },
        {
          "output_type": "display_data",
          "data": {
            "image/png": "[encoded data removed]",
            "text/plain": [
              "<Figure size 360x360 with 1 Axes>"
            ]
          },
          "metadata": {
            "needs_background": "light"
          }
        }
      ]
    },
    {
      "cell_type": "markdown",
      "metadata": {
        "id": "TCpPSSzURpwq"
      },
      "source": [
        "### 4. Which player has won most number of medals? (Top 5)"
      ]
    },
    {
      "cell_type": "code",
      "metadata": {
        "colab": {
          "base_uri": "https://localhost:8080/",
          "height": 520
        },
        "id": "T8lELvnw-S0q",
        "outputId": "f14b9c30-6e76-4d62-eb87-5405eeeee464"
      },
      "source": [
        "x=df.groupby('Athlete')['Medal'].count()\n",
        "y=x.to_frame()\n",
        "z=y.sort_values(by='Medal',ascending=False).head()\n",
        "print(z)\n",
        "z.plot(kind='bar')"
      ],
      "execution_count": 124,
      "outputs": [
        {
          "output_type": "stream",
          "name": "stdout",
          "text": [
            "                      Medal\n",
            "Athlete                    \n",
            "PHELPS, Michael          22\n",
            "LATYNINA, Larisa         18\n",
            "ANDRIANOV, Nikolay       15\n",
            "MANGIAROTTI, Edoardo     13\n",
            "ONO, Takashi             13\n"
          ]
        },
        {
          "output_type": "execute_result",
          "data": {
            "text/plain": [
              "<matplotlib.axes._subplots.AxesSubplot at 0x7f154b46ec90>"
            ]
          },
          "metadata": {},
          "execution_count": 124
        },
        {
          "output_type": "display_data",
          "data": {
            "image/png": "[encoded data removed]",
            "text/plain": [
              "<Figure size 432x288 with 1 Axes>"
            ]
          },
          "metadata": {
            "needs_background": "light"
          }
        }
      ]
    },
    {
      "cell_type": "markdown",
      "metadata": {
        "id": "X103Fg4ERpws"
      },
      "source": [
        "### 5. Which player has won most number Gold Medals of medals? (Top 5)"
      ]
    },
    {
      "cell_type": "code",
      "metadata": {
        "id": "laCPQsucRpwt",
        "colab": {
          "base_uri": "https://localhost:8080/",
          "height": 520
        },
        "outputId": "e285a9fc-fd5f-49f6-a21e-c69cbadbf7a7"
      },
      "source": [
        "x=df.groupby('Athlete')['Medal'].count()\n",
        "y=x.to_frame()\n",
        "z=y.sort_values(by='Medal',ascending=False).head()\n",
        "print(z)\n",
        "z.plot(kind='bar')"
      ],
      "execution_count": 126,
      "outputs": [
        {
          "output_type": "stream",
          "name": "stdout",
          "text": [
            "                      Medal\n",
            "Athlete                    \n",
            "PHELPS, Michael          22\n",
            "LATYNINA, Larisa         18\n",
            "ANDRIANOV, Nikolay       15\n",
            "MANGIAROTTI, Edoardo     13\n",
            "ONO, Takashi             13\n"
          ]
        },
        {
          "output_type": "execute_result",
          "data": {
            "text/plain": [
              "<matplotlib.axes._subplots.AxesSubplot at 0x7f1548cbf210>"
            ]
          },
          "metadata": {},
          "execution_count": 126
        },
        {
          "output_type": "display_data",
          "data": {
            "image/png": "[encoded data removed]",
            "text/plain": [
              "<Figure size 432x288 with 1 Axes>"
            ]
          },
          "metadata": {
            "needs_background": "light"
          }
        }
      ]
    },
    {
      "cell_type": "markdown",
      "metadata": {
        "id": "IZQBEwK0Rpwt"
      },
      "source": [
        "### 6. In which year India won first Gold Medal in Summer Olympics?"
      ]
    },
    {
      "cell_type": "code",
      "metadata": {
        "colab": {
          "base_uri": "https://localhost:8080/"
        },
        "id": "Hd4P_KlLsCHj",
        "outputId": "acf7dd41-ee30-48e1-9f05-771dd044cba9"
      },
      "source": [
        "\n",
        "x=df.groupby(['Country','Year'])['Medal'].count()\n",
        "\n",
        "y=df.loc[(df['Medal'] == 'Gold')&(df['Country']=='IND')].head(1)\n",
        "print(y)\n",
        "y['Year']"
      ],
      "execution_count": 130,
      "outputs": [
        {
          "output_type": "stream",
          "name": "stdout",
          "text": [
            "      Year       City   Sport Discipline               Athlete Country Gender  \\\n",
            "5512  1928  Amsterdam  Hockey     Hockey  ALLEN, Richard James     IND    Men   \n",
            "\n",
            "       Event Medal  \n",
            "5512  Hockey  Gold  \n"
          ]
        },
        {
          "output_type": "execute_result",
          "data": {
            "text/plain": [
              "5512    1928\n",
              "Name: Year, dtype: int64"
            ]
          },
          "metadata": {},
          "execution_count": 130
        }
      ]
    },
    {
      "cell_type": "markdown",
      "metadata": {
        "id": "jgTAHwTwRpwv"
      },
      "source": [
        "### 7. Which event is most popular in terms on number of players? (Top 5)"
      ]
    },
    {
      "cell_type": "code",
      "metadata": {
        "id": "yFy8_bxBRpww",
        "colab": {
          "base_uri": "https://localhost:8080/",
          "height": 495
        },
        "outputId": "4b4d41ff-149d-46ed-d61e-1d4e501cd7a3"
      },
      "source": [
        "x=df.groupby('Event')['Athlete'].count()\n",
        "y=x.to_frame()\n",
        "z=y.sort_values(by='Athlete',ascending=False).head()\n",
        "print(z)\n",
        "z.plot(kind='bar')"
      ],
      "execution_count": 131,
      "outputs": [
        {
          "output_type": "stream",
          "name": "stdout",
          "text": [
            "                  Athlete\n",
            "Event                    \n",
            "Football             1497\n",
            "Hockey               1422\n",
            "Team Competition     1147\n",
            "Basketball           1012\n",
            "Handball              973\n"
          ]
        },
        {
          "output_type": "execute_result",
          "data": {
            "text/plain": [
              "<matplotlib.axes._subplots.AxesSubplot at 0x7f154ab31210>"
            ]
          },
          "metadata": {},
          "execution_count": 131
        },
        {
          "output_type": "display_data",
          "data": {
            "image/png": "[encoded data removed]",
            "text/plain": [
              "<Figure size 432x288 with 1 Axes>"
            ]
          },
          "metadata": {
            "needs_background": "light"
          }
        }
      ]
    },
    {
      "cell_type": "markdown",
      "metadata": {
        "id": "naMZ9t_jRpwx"
      },
      "source": [
        "### 8. Which sport is having most female Gold Medalists? (Top 5)"
      ]
    },
    {
      "cell_type": "code",
      "metadata": {
        "id": "BDNm3eSdRpwy",
        "colab": {
          "base_uri": "https://localhost:8080/",
          "height": 461
        },
        "outputId": "f4edcebb-8a4e-44dc-bc14-392d5c20a205"
      },
      "source": [
        "y=df.loc[(df['Medal'] == 'Gold')&(df['Gender']=='Women')]\n",
        "x=y.groupby('Sport')['Athlete'].count()\n",
        "z=x.sort_values(ascending=False).head()\n",
        "print(z)\n",
        "z.plot(kind='bar')"
      ],
      "execution_count": 133,
      "outputs": [
        {
          "output_type": "stream",
          "name": "stdout",
          "text": [
            "Sport\n",
            "Aquatics      589\n",
            "Athletics     389\n",
            "Gymnastics    268\n",
            "Rowing        217\n",
            "Volleyball    166\n",
            "Name: Athlete, dtype: int64\n"
          ]
        },
        {
          "output_type": "execute_result",
          "data": {
            "text/plain": [
              "<matplotlib.axes._subplots.AxesSubplot at 0x7f154b11dfd0>"
            ]
          },
          "metadata": {},
          "execution_count": 133
        },
        {
          "output_type": "display_data",
          "data": {
            "image/png": "[encoded data removed]",
            "text/plain": [
              "<Figure size 432x288 with 1 Axes>"
            ]
          },
          "metadata": {
            "needs_background": "light"
          }
        }
      ]
    }
  ]
}