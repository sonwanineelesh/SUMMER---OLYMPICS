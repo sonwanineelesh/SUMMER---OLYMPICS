{
  "nbformat": 4,
  "nbformat_minor": 0,
  "metadata": {
    "colab": {
      "name": "summer.ipynb",
      "provenance": [],
      "collapsed_sections": []
    },
    "kernelspec": {
      "display_name": "Python 2",
      "language": "python",
      "name": "python2"
    },
    "language_info": {
      "codemirror_mode": {
        "name": "ipython",
        "version": 2
      },
      "file_extension": ".py",
      "mimetype": "text/x-python",
      "name": "python",
      "nbconvert_exporter": "python",
      "pygments_lexer": "ipython2",
      "version": "2.7.16"
    }
  },
  "cells": [
    {
      "cell_type": "markdown",
      "metadata": {
        "id": "KRYKfYMgRpwe"
      },
      "source": [
        "# Summer Olympics Data Analysis Assignment"
      ]
    },
    {
      "cell_type": "markdown",
      "metadata": {
        "id": "fuQ4zYFVRpwj"
      },
      "source": [
        "### 1. In how many cities Summer Olympics is held so far?"
      ]
    },
    {
      "cell_type": "code",
      "metadata": {
        "colab": {
          "base_uri": "https://localhost:8080/"
        },
        "id": "ZB-BwPYSRpwm",
        "outputId": "6cbaa5a6-5c54-4d3c-8f96-a0505779b6b2"
      },
      "source": [
        "import pandas as pd\n",
        "import numpy\n",
        "df=pd.read_csv('summer.csv')\n",
        "len(df['City'].unique())"
      ],
      "execution_count": 134,
      "outputs": [
        {
          "output_type": "execute_result",
          "data": {
            "text/plain": [
              "22"
            ]
          },
          "metadata": {},
          "execution_count": 134
        }
      ]
    },
    {
      "cell_type": "markdown",
      "metadata": {
        "id": "js_2MsXjRpwn"
      },
      "source": [
        "### 2. Which sport is having most number of Gold Medals so far? (Top 5)"
      ]
    },
    {
      "cell_type": "code",
      "metadata": {
        "colab": {
          "base_uri": "https://localhost:8080/",
          "height": 445
        },
        "id": "sATIAEQvzAqc",
        "outputId": "227f5730-aca4-489c-a4dc-845031144680"
      },
      "source": [
        "dff = df[ (df.Medal == 'Gold')]\n",
        "data=[]\n",
        "for sport in dff['Sport'].unique():\n",
        "    data.append([sport,len(dff[dff['Sport']==sport])])\n",
        "data=pd.DataFrame(data, columns=['Sport','Gold medal']) \n",
        "data=data.sort_values(by='Gold medal', ascending=False).head()\n",
        "print(data)\n",
        "data.plot(x='Sport',y='Gold medal',kind='bar')"
      ],
      "execution_count": 149,
      "outputs": [
        {
          "output_type": "stream",
          "name": "stdout",
          "text": [
            "         Sport  Gold medal\n",
            "0     Aquatics        1421\n",
            "1    Athletics        1215\n",
            "17      Rowing         890\n",
            "4   Gymnastics         820\n",
            "3      Fencing         552\n"
          ]
        },
        {
          "output_type": "execute_result",
          "data": {
            "text/plain": [
              "<matplotlib.axes._subplots.AxesSubplot at 0x7f154ad641d0>"
            ]
          },
          "metadata": {},
          "execution_count": 149
        },
        {
          "output_type": "display_data",
          "data": {
            "image/png": "[encoded data removed]",
            "text/plain": [
              "<Figure size 432x288 with 1 Axes>"
            ]
          },
          "metadata": {
            "needs_background": "light"
          }
        }
      ]
    },
    {
      "cell_type": "markdown",
      "metadata": {
        "id": "wGvg5vX4Rpwp"
      },
      "source": [
        "### 3. Which sport is having most number of medals so far? (Top 5)"
      ]
    },
    {
      "cell_type": "code",
      "metadata": {
        "id": "Oyoax_-gRpwp",
        "colab": {
          "base_uri": "https://localhost:8080/",
          "height": 445
        },
        "outputId": "7be2b16d-22f5-44bf-a043-9a952a333113"
      },
      "source": [
        "data=[]\n",
        "for sport in df['Sport'].unique():\n",
        "    data.append([sport,len(df[df['Sport']==sport])])\n",
        "data=pd.DataFrame(data, columns=['Sport','Gold']) \n",
        "data=data.sort_values(by='Gold', ascending=False).head()\n",
        "print(data)\n",
        "data.plot(x='Sport',y='Gold',kind='bar')"
      ],
      "execution_count": 146,
      "outputs": [
        {
          "output_type": "stream",
          "name": "stdout",
          "text": [
            "         Sport  Gold\n",
            "0     Aquatics  4170\n",
            "1    Athletics  3638\n",
            "17      Rowing  2667\n",
            "4   Gymnastics  2307\n",
            "3      Fencing  1613\n"
          ]
        },
        {
          "output_type": "execute_result",
          "data": {
            "text/plain": [
              "<matplotlib.axes._subplots.AxesSubplot at 0x7f154ad64b10>"
            ]
          },
          "metadata": {},
          "execution_count": 146
        },
        {
          "output_type": "display_data",
          "data": {
            "image/png": "[encoded data removed]",
            "text/plain": [
              "<Figure size 432x288 with 1 Axes>"
            ]
          },
          "metadata": {
            "needs_background": "light"
          }
        }
      ]
    },
    {
      "cell_type": "markdown",
      "metadata": {
        "id": "TCpPSSzURpwq"
      },
      "source": [
        "### 4. Which player has won most number of medals? (Top 5)"
      ]
    },
    {
      "cell_type": "code",
      "metadata": {
        "colab": {
          "base_uri": "https://localhost:8080/",
          "height": 520
        },
        "id": "T8lELvnw-S0q",
        "outputId": "f14b9c30-6e76-4d62-eb87-5405eeeee464"
      },
      "source": [
        "data=[]\n",
        "for sport in df['Athlete'].unique():\n",
        "    data.append([sport,len(df[df['Athlete']==sport])])\n",
        "data=pd.DataFrame(data, columns=['Athlete','No.of medals']) \n",
        "data=data.sort_values(by='No.of medals', ascending=False).head()\n",
        "print(data)"
      ],
      "execution_count": 124,
      "outputs": [
        {
          "output_type": "stream",
          "name": "stdout",
          "text": [
            "                      Medal\n",
            "Athlete                    \n",
            "PHELPS, Michael          22\n",
            "LATYNINA, Larisa         18\n",
            "ANDRIANOV, Nikolay       15\n",
            "MANGIAROTTI, Edoardo     13\n",
            "ONO, Takashi             13\n"
          ]
        },
        {
          "output_type": "execute_result",
          "data": {
            "text/plain": [
              "<matplotlib.axes._subplots.AxesSubplot at 0x7f154b46ec90>"
            ]
          },
          "metadata": {},
          "execution_count": 124
        },
        {
          "output_type": "display_data",
          "data": {
            "image/png": "[encoded data removed]",
            "text/plain": [
              "<Figure size 432x288 with 1 Axes>"
            ]
          },
          "metadata": {
            "needs_background": "light"
          }
        }
      ]
    },
    {
      "cell_type": "markdown",
      "metadata": {
        "id": "X103Fg4ERpws"
      },
      "source": [
        "### 5. Which player has won most number Gold Medals of medals? (Top 5)"
      ]
    },
    {
      "cell_type": "code",
      "metadata": {
        "id": "laCPQsucRpwt",
        "colab": {
          "base_uri": "https://localhost:8080/",
          "height": 471
        },
        "outputId": "bc3825bd-a0e3-446e-895c-0dac5a93ad89"
      },
      "source": [
        "po = df[ (df.Medal == 'Gold')]\n",
        "data=[]\n",
        "for sport in po['Athlete'].unique():\n",
        "    data.append([sport,len(po[po['Athlete']==sport])])\n",
        "data=pd.DataFrame(data, columns=['Athlete','Gold medals']) \n",
        "data=data.sort_values(by='Gold medals', ascending=False).head()\n",
        "print(data)\n",
        "data.plot(x='Athlete',y='Gold medals',kind='bar')"
      ],
      "execution_count": 153,
      "outputs": [
        {
          "output_type": "stream",
          "name": "stdout",
          "text": [
            "               Athlete  Gold medals\n",
            "6851   PHELPS, Michael           18\n",
            "3320       SPITZ, Mark            9\n",
            "2714  LATYNINA, Larisa            9\n",
            "4630       LEWIS, Carl            9\n",
            "907       NURMI, Paavo            9\n"
          ]
        },
        {
          "output_type": "execute_result",
          "data": {
            "text/plain": [
              "<matplotlib.axes._subplots.AxesSubplot at 0x7f1549a0a5d0>"
            ]
          },
          "metadata": {},
          "execution_count": 153
        },
        {
          "output_type": "display_data",
          "data": {
            "image/png": "[encoded data removed]",
            "text/plain": [
              "<Figure size 432x288 with 1 Axes>"
            ]
          },
          "metadata": {
            "needs_background": "light"
          }
        }
      ]
    },
    {
      "cell_type": "markdown",
      "metadata": {
        "id": "IZQBEwK0Rpwt"
      },
      "source": [
        "### 6. In which year India won first Gold Medal in Summer Olympics?"
      ]
    },
    {
      "cell_type": "code",
      "metadata": {
        "colab": {
          "base_uri": "https://localhost:8080/"
        },
        "id": "Hd4P_KlLsCHj",
        "outputId": "f3908dcc-53cd-40db-8b2e-ef763fa61658"
      },
      "source": [
        "\n",
        "Ind = df[(df.Country==\"IND\") & (df.Medal == 'Gold')]\n",
        "I=Ind.head(1)\n",
        "print(I)\n",
        "I['Year']"
      ],
      "execution_count": 156,
      "outputs": [
        {
          "output_type": "stream",
          "name": "stdout",
          "text": [
            "      Year       City   Sport Discipline               Athlete Country Gender  \\\n",
            "5512  1928  Amsterdam  Hockey     Hockey  ALLEN, Richard James     IND    Men   \n",
            "\n",
            "       Event Medal  \n",
            "5512  Hockey  Gold  \n"
          ]
        },
        {
          "output_type": "execute_result",
          "data": {
            "text/plain": [
              "5512    1928\n",
              "Name: Year, dtype: int64"
            ]
          },
          "metadata": {},
          "execution_count": 156
        }
      ]
    },
    {
      "cell_type": "markdown",
      "metadata": {
        "id": "jgTAHwTwRpwv"
      },
      "source": [
        "### 7. Which event is most popular in terms on number of players? (Top 5)"
      ]
    },
    {
      "cell_type": "code",
      "metadata": {
        "id": "yFy8_bxBRpww",
        "colab": {
          "base_uri": "https://localhost:8080/",
          "height": 478
        },
        "outputId": "e83921a5-2a1a-49ee-f842-b938bd81d419"
      },
      "source": [
        "data=[]\n",
        "for event in df['Event'].unique():\n",
        "  data.append([event,len(df[df['Event']==event])])\n",
        "data=pd.DataFrame(data,columns=['Event','Players']).sort_values(by='Players',ascending=False).head()\n",
        "print(data)\n",
        "data.plot(x='Event',y='Players',kind='bar')"
      ],
      "execution_count": 159,
      "outputs": [
        {
          "output_type": "stream",
          "name": "stdout",
          "text": [
            "                Event  Players\n",
            "80           Football     1497\n",
            "176            Hockey     1422\n",
            "138  Team Competition     1147\n",
            "327        Basketball     1012\n",
            "337          Handball      973\n"
          ]
        },
        {
          "output_type": "execute_result",
          "data": {
            "text/plain": [
              "<matplotlib.axes._subplots.AxesSubplot at 0x7f1549920ed0>"
            ]
          },
          "metadata": {},
          "execution_count": 159
        },
        {
          "output_type": "display_data",
          "data": {
            "image/png": "[encoded data removed]",
            "text/plain": [
              "<Figure size 432x288 with 1 Axes>"
            ]
          },
          "metadata": {
            "needs_background": "light"
          }
        }
      ]
    },
    {
      "cell_type": "markdown",
      "metadata": {
        "id": "naMZ9t_jRpwx"
      },
      "source": [
        "### 8. Which sport is having most female Gold Medalists? (Top 5)"
      ]
    },
    {
      "cell_type": "code",
      "metadata": {
        "id": "BDNm3eSdRpwy",
        "colab": {
          "base_uri": "https://localhost:8080/",
          "height": 445
        },
        "outputId": "739e52e6-239b-4539-deaf-a39030659856"
      },
      "source": [
        "wo = df[(df.Gender == 'Women') & (df.Medal == 'Gold')]\n",
        "data=[]\n",
        "for sport in wo['Sport'].unique():\n",
        "    data.append([sport,len(wo[wo['Sport']==sport])])\n",
        "data=pd.DataFrame(data, columns=['Sport','female gold medalists']) \n",
        "data=data.sort_values(by='female gold medalists', ascending=False).head()\n",
        "print(data)\n",
        "data.plot(x='Sport',y='female gold medalists',kind='bar')"
      ],
      "execution_count": 160,
      "outputs": [
        {
          "output_type": "stream",
          "name": "stdout",
          "text": [
            "         Sport  female gold medalists\n",
            "4     Aquatics                    589\n",
            "7    Athletics                    389\n",
            "8   Gymnastics                    268\n",
            "14      Rowing                    217\n",
            "11  Volleyball                    166\n"
          ]
        },
        {
          "output_type": "execute_result",
          "data": {
            "text/plain": [
              "<matplotlib.axes._subplots.AxesSubplot at 0x7f154985a8d0>"
            ]
          },
          "metadata": {},
          "execution_count": 160
        },
        {
          "output_type": "display_data",
          "data": {
            "image/png": "[encoded data removed]",
            "text/plain": [
              "<Figure size 432x288 with 1 Axes>"
            ]
          },
          "metadata": {
            "needs_background": "light"
          }
        }
      ]
    }
  ]
}